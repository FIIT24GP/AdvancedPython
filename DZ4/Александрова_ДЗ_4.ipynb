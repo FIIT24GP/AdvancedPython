{
  "nbformat": 4,
  "nbformat_minor": 0,
  "metadata": {
    "colab": {
      "provenance": [],
      "name": "Александрова-ДЗ-4.ipynb"
    },
    "kernelspec": {
      "name": "python3",
      "display_name": "Python 3"
    },
    "language_info": {
      "name": "python"
    }
  },
  "cells": [
    {
      "cell_type": "markdown",
      "source": [
        "# Задание 1\n",
        "\n",
        "Напишите программу с двумя потоками. В первом потоке выведите все чётные числа, во втором -- нечётные. Нижняя и верхняя граница указывается на входе (можно захардкодить, чтобы не вводить).\n",
        "\n",
        "Пример:\n",
        "\n",
        "Входные данные:\n",
        "```\n",
        "30\n",
        "50\n",
        "```\n",
        "\n",
        "Ответ:\n",
        "```\n",
        "List of even numbers:\n",
        "30 32 34 36 38 40 42 44 46 48 50\n",
        "List of odd numbers:\n",
        "31 33 35 37 39 41 43 45 47 49\n",
        "```"
      ],
      "metadata": {
        "id": "Y17pk3s39McV"
      }
    },
    {
      "cell_type": "code",
      "source": [
        "import threading\n",
        "\n",
        "def print_even_numbers(start, end):\n",
        "    print(\"List of even numbers:\")\n",
        "    for number in range(start, end + 1):\n",
        "        if number % 2 == 0:\n",
        "            print(number, end=\" \")\n",
        "    print()\n",
        "\n",
        "def print_odd_numbers(start, end):\n",
        "    print(\"Список нечётных чисел:\")\n",
        "    for number in range(start, end + 1):\n",
        "        if number % 2 != 0:\n",
        "            print(number, end=\" \")\n",
        "    print()\n",
        "\n",
        "if __name__ == \"__main__\":\n",
        "    # Захардкоженные границы\n",
        "    start = 30\n",
        "    end = 50\n",
        "\n",
        "    # Создаем два потока\n",
        "    even_thread = threading.Thread(target=print_even_numbers, args=(start, end))\n",
        "    odd_thread = threading.Thread(target=print_odd_numbers, args=(start, end))\n",
        "\n",
        "    # Запускаем потоки\n",
        "    even_thread.start()\n",
        "    odd_thread.start()\n",
        "\n",
        "    # Ожидаем завершения потоков\n",
        "    even_thread.join()\n",
        "    odd_thread.join()\n",
        "\n",
        "    print(\"Оба потока завершили выполнение.\")\n"
      ],
      "metadata": {
        "id": "fOeB9jZu_Cel",
        "colab": {
          "base_uri": "https://localhost:8080/"
        },
        "outputId": "90113d07-d067-4790-ae2e-943072474c0b"
      },
      "execution_count": 2,
      "outputs": [
        {
          "output_type": "stream",
          "name": "stdout",
          "text": [
            "List of even numbers:Список нечётных чисел:\n",
            "\n",
            "3130 33 32 34 36 38 40 42 44 46 48 50 \n",
            " 35 37 39 41 43 45 47 49 \n",
            "Оба потока завершили выполнение.\n"
          ]
        }
      ]
    },
    {
      "cell_type": "markdown",
      "source": [
        "# Задание 2\n",
        "\n",
        "Реализуйте программу, которая конкурентно посчитает факториал числа.\n",
        "\n",
        "Входные данные:\n",
        "```\n",
        "12\n",
        "```\n",
        "\n",
        "Ответ:\n",
        "```\n",
        "479001600\n",
        "```"
      ],
      "metadata": {
        "id": "xWOcw0bfDhW2"
      }
    },
    {
      "cell_type": "code",
      "source": [
        "import threading\n",
        "\n",
        "def calculate_factorial(number):\n",
        "    result = 1\n",
        "    for i in range(1, number + 1):\n",
        "        result *= i\n",
        "    print(f\"Factorial of {number} is: {result}\")\n",
        "\n",
        "if __name__ == \"__main__\":\n",
        "    number = 12\n",
        "\n",
        "    # Создаем поток для вычисления факториала\n",
        "    factorial_thread = threading.Thread(target=calculate_factorial, args=(number,))\n",
        "\n",
        "    # Запускаем поток\n",
        "    factorial_thread.start()\n",
        "\n",
        "    # Ожидаем завершения потока\n",
        "    factorial_thread.join()\n"
      ],
      "metadata": {
        "colab": {
          "base_uri": "https://localhost:8080/"
        },
        "id": "2DbIDB6sPzoj",
        "outputId": "3cc7f036-bcae-4c8a-f611-ff21ae91d9cf"
      },
      "execution_count": 3,
      "outputs": [
        {
          "output_type": "stream",
          "name": "stdout",
          "text": [
            "Factorial of 12 is: 479001600\n"
          ]
        }
      ]
    },
    {
      "cell_type": "markdown",
      "source": [
        "# Задание 3\n",
        "\n",
        "Напишите 2 функции: первая считает квадрат числа (можно взять готовые реализации), вторая -- сумму чисел.\n",
        "\n",
        "Каждую из указанных функций запустите в отдельном процессе. В результате у вас должен получится пайплайн, который получает на вход числа от 1 до $n$ (включительно), считает для них квадрат, и для полученных чисел считает сумму.\n",
        "\n",
        "Входные данные:\n",
        "```\n",
        "10\n",
        "```\n",
        "\n",
        "Ответ:\n",
        "```\n",
        "385\n",
        "```"
      ],
      "metadata": {
        "id": "S8tau_l2_SP1"
      }
    },
    {
      "cell_type": "code",
      "source": [
        "import multiprocessing\n",
        "\n",
        "def calculate_square(numbers, conn):\n",
        "    squares = [number ** 2 for number in numbers]\n",
        "    conn.send(squares)\n",
        "    conn.close()\n",
        "\n",
        "def calculate_sum(conn):\n",
        "    squares = conn.recv()\n",
        "    total_sum = sum(squares)\n",
        "    print(f\"The sum of squares is: {total_sum}\")\n",
        "\n",
        "if __name__ == \"__main__\":\n",
        "    n = 10  # Верхняя граница\n",
        "    numbers = list(range(1, n + 1))\n",
        "\n",
        "    # Создаем канал связи\n",
        "    parent_conn, child_conn = multiprocessing.Pipe()\n",
        "\n",
        "    # Создаем процессы\n",
        "    square_process = multiprocessing.Process(target=calculate_square, args=(numbers, child_conn))\n",
        "    sum_process = multiprocessing.Process(target=calculate_sum, args=(parent_conn,))\n",
        "\n",
        "    # Запускаем процессы\n",
        "    square_process.start()\n",
        "    sum_process.start()\n",
        "\n",
        "    # Ожидаем завершения процессов\n",
        "    square_process.join()\n",
        "    sum_process.join()\n"
      ],
      "metadata": {
        "id": "mxOqE_quAVU8",
        "colab": {
          "base_uri": "https://localhost:8080/"
        },
        "outputId": "64978437-c30f-4c68-9807-6b58f70b1289"
      },
      "execution_count": 4,
      "outputs": [
        {
          "output_type": "stream",
          "name": "stdout",
          "text": [
            "The sum of squares is: 385\n"
          ]
        }
      ]
    },
    {
      "cell_type": "markdown",
      "source": [
        "# Задание 4\n",
        "\n",
        "Реализуйте параллельный алгоритм сортировки слиянием (merge sort) с использованием модуля multiprocessing.\n",
        "\n",
        "Входные данные:\n",
        "```\n",
        "3 14 15 9 2 6 5 35\n",
        "```\n",
        "\n",
        "Ответ:\n",
        "```\n",
        "2 3 5 6 9 14 15 35\n",
        "```"
      ],
      "metadata": {
        "id": "1KhRHQ_dBN0e"
      }
    },
    {
      "cell_type": "code",
      "source": [
        "import multiprocessing\n",
        "\n",
        "# Функция для слияния двух отсортированных массивов\n",
        "def merge(left, right):\n",
        "    result = []\n",
        "    i = j = 0\n",
        "\n",
        "    # Пока оба массива не пусты, добавляем меньший элемент\n",
        "    while i < len(left) and j < len(right):\n",
        "        if left[i] <= right[j]:\n",
        "            result.append(left[i])\n",
        "            i += 1\n",
        "        else:\n",
        "            result.append(right[j])\n",
        "            j += 1\n",
        "\n",
        "    # Добавляем оставшиеся элементы из левого и правого массива\n",
        "    result.extend(left[i:])\n",
        "    result.extend(right[j:])\n",
        "    return result\n",
        "\n",
        "# Функция для последовательной сортировки слиянием\n",
        "def merge_sort(data):\n",
        "    if len(data) <= 1:\n",
        "        return data\n",
        "\n",
        "    mid = len(data) // 2\n",
        "    left = merge_sort(data[:mid])\n",
        "    right = merge_sort(data[mid:])\n",
        "    return merge(left, right)\n",
        "\n",
        "# Функция для параллельной сортировки слиянием с использованием multiprocessing\n",
        "def parallel_merge_sort(data):\n",
        "    if len(data) <= 1:\n",
        "        return data\n",
        "\n",
        "    mid = len(data) // 2\n",
        "\n",
        "    # Создаем пул процессов для параллельной сортировки левой и правой части\n",
        "    with multiprocessing.Pool(processes=2) as pool:\n",
        "        left, right = pool.map(merge_sort, [data[:mid], data[mid:]])\n",
        "\n",
        "    # Объединяем отсортированные части\n",
        "    return merge(left, right)\n",
        "\n",
        "if __name__ == \"__main__\":\n",
        "    # Тестовые данные\n",
        "    input_data = [3, 14, 15, 9, 2, 6, 5, 35]\n",
        "\n",
        "    # Выполняем параллельную сортировку\n",
        "    sorted_data = parallel_merge_sort(input_data)\n",
        "\n",
        "    # Вывод результата\n",
        "    print(\"Sorted array:\", sorted_data)\n"
      ],
      "metadata": {
        "id": "-OPFks5aDHgy",
        "colab": {
          "base_uri": "https://localhost:8080/"
        },
        "outputId": "248b4d84-9cbb-446c-ee14-3b5c2d696513"
      },
      "execution_count": 5,
      "outputs": [
        {
          "output_type": "stream",
          "name": "stdout",
          "text": [
            "Sorted array: [2, 3, 5, 6, 9, 14, 15, 35]\n"
          ]
        }
      ]
    }
  ]
}