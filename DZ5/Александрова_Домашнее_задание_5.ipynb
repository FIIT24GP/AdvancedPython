{
  "nbformat": 4,
  "nbformat_minor": 0,
  "metadata": {
    "colab": {
      "provenance": []
    },
    "kernelspec": {
      "name": "python3",
      "display_name": "Python 3"
    },
    "language_info": {
      "name": "python"
    }
  },
  "cells": [
    {
      "cell_type": "markdown",
      "source": [
        "# Задание 1\n",
        "\n",
        "Скрипт для асинхронной обкачки урлов\n",
        "\n",
        "Написать скрипт для обкачки списка урлов с возможностью задавать количество одновременных запросов, используя асинхронное программирование. Клиент можно использовать любой, например, из aiohttp."
      ],
      "metadata": {
        "id": "A_8yhMAVR4kV"
      }
    },
    {
      "cell_type": "code",
      "source": [
        "import asyncio\n",
        "import aiohttp\n",
        "\n",
        "# Функция для выполнения асинхронного запроса к указанному URL\n",
        "async def fetch_url(session, url):\n",
        "    try:\n",
        "        # Открытие асинхронного HTTP-запроса с использованием aiohttp\n",
        "        async with session.get(url) as response:\n",
        "            status = response.status\n",
        "            data = await response.text()\n",
        "            print(f\"URL: {url}, Status: {status}\")\n",
        "            return data\n",
        "    except Exception as e:\n",
        "        # Обработка ошибок при выполнении запроса\n",
        "        print(f\"Error fetching {url}: {e}\")\n",
        "        return None\n",
        "\n",
        "# Функция для обработки списка URL с ограничением на количество одновременных запросов\n",
        "async def fetch_all_urls(urls, max_concurrent):\n",
        "    semaphore = asyncio.Semaphore(max_concurrent)  # Семафор для ограничения числа одновременных запросов\n",
        "\n",
        "    async def fetch_with_semaphore(session, url):\n",
        "        async with semaphore:\n",
        "            return await fetch_url(session, url)\n",
        "\n",
        "    async with aiohttp.ClientSession() as session:\n",
        "        tasks = [fetch_with_semaphore(session, url) for url in urls]  # Создание задач для каждого URL\n",
        "        return await asyncio.gather(*tasks)\n",
        "\n",
        "# Альтернативный запуск для среды Jupyter или других активных событийных циклов\n",
        "async def main_async():\n",
        "    # Список URL для обкачки\n",
        "    urls = [\n",
        "        \"https://example.com\",\n",
        "        \"https://httpbin.org/get\",\n",
        "        \"https://jsonplaceholder.typicode.com/posts/1\",\n",
        "        \"https://jsonplaceholder.typicode.com/posts/2\"\n",
        "    ]\n",
        "    max_concurrent_requests = 2  # Максимальное количество одновременных запросов\n",
        "\n",
        "    # Запуск основного асинхронного процесса для обкачки списка URL\n",
        "    await fetch_all_urls(urls, max_concurrent_requests)\n",
        "\n",
        "if __name__ == \"__main__\":\n",
        "    try:\n",
        "        # Использование asyncio.run для стандартной среды\n",
        "        asyncio.run(main_async())\n",
        "    except RuntimeError:\n",
        "        # Альтернативный запуск для Jupyter Notebook\n",
        "        import nest_asyncio\n",
        "        nest_asyncio.apply()\n",
        "        asyncio.get_event_loop().run_until_complete(main_async())\n"
      ],
      "metadata": {
        "colab": {
          "base_uri": "https://localhost:8080/"
        },
        "id": "beuTudO5VNwf",
        "outputId": "5d5eb319-5ded-45be-f68e-274b673606bf"
      },
      "execution_count": 3,
      "outputs": [
        {
          "output_type": "stream",
          "name": "stdout",
          "text": [
            "URL: https://example.com, Status: 200\n",
            "URL: https://jsonplaceholder.typicode.com/posts/1, Status: 200\n",
            "URL: https://httpbin.org/get, Status: 200\n",
            "URL: https://jsonplaceholder.typicode.com/posts/2, Status: 200\n"
          ]
        },
        {
          "output_type": "stream",
          "name": "stderr",
          "text": [
            "<ipython-input-3-623deb5673e8>:52: RuntimeWarning: coroutine 'main_async' was never awaited\n",
            "  asyncio.get_event_loop().run_until_complete(main_async())\n",
            "RuntimeWarning: Enable tracemalloc to get the object allocation traceback\n"
          ]
        }
      ]
    },
    {
      "cell_type": "markdown",
      "source": [
        "# Задание 2\n",
        "\n",
        "Сравнение использования weakref и слотов\n",
        "\n",
        "Нужно придумать свои типы с несколькими атрибутами:\n",
        "\n",
        "- класс с обычными атрибутами\n",
        "- класс со слотами\n",
        "- класс с атрибутами weakref\n",
        "\n",
        "Для каждого класса создается большое число экземпляров и замеряется (сравнивается):\n",
        "- время создания пачки экземпляров\n",
        "- время чтения/изменения атрибутов\n",
        "\n",
        "Результаты замеров оформляются скриншотами c описанием и выводом."
      ],
      "metadata": {
        "id": "VhTIV05ISY3G"
      }
    },
    {
      "cell_type": "code",
      "source": [
        "import weakref\n",
        "import time\n",
        "\n",
        "# Класс с обычными атрибутами\n",
        "class RegularClass:\n",
        "    def __init__(self, a, b, c):\n",
        "        self.a = a\n",
        "        self.b = b\n",
        "        self.c = c\n",
        "\n",
        "# Класс с использованием слотов\n",
        "class SlotsClass:\n",
        "    __slots__ = ('a', 'b', 'c')\n",
        "    def __init__(self, a, b, c):\n",
        "        self.a = a\n",
        "        self.b = b\n",
        "        self.c = c\n",
        "\n",
        "# Класс с использованием слабых ссылок\n",
        "class WeakRefClass:\n",
        "    def __init__(self, a, b, c):\n",
        "        self.a = a\n",
        "        self.b = b\n",
        "        self.c = c\n",
        "\n",
        "if __name__ == \"__main__\":\n",
        "    NUM_INSTANCES = 100000  # Количество экземпляров для теста\n",
        "\n",
        "    # Замер времени создания экземпляров класса RegularClass\n",
        "    start_time = time.time()\n",
        "    regular_instances = [RegularClass(i, i + 1, i + 2) for i in range(NUM_INSTANCES)]\n",
        "    regular_time = time.time() - start_time\n",
        "\n",
        "    # Замер времени создания экземпляров класса SlotsClass\n",
        "    start_time = time.time()\n",
        "    slots_instances = [SlotsClass(i, i + 1, i + 2) for i in range(NUM_INSTANCES)]\n",
        "    slots_time = time.time() - start_time\n",
        "\n",
        "    # Замер времени создания экземпляров класса WeakRefClass с использованием слабых ссылок\n",
        "    start_time = time.time()\n",
        "    weakref_instances = [weakref.ref(WeakRefClass(i, i + 1, i + 2)) for i in range(NUM_INSTANCES)]\n",
        "    weakref_time = time.time() - start_time\n",
        "\n",
        "    # Вывод времени создания экземпляров\n",
        "    print(\"Время создания экземпляров:\")\n",
        "    print(f\"RegularClass: {regular_time:.4f} секунд\")\n",
        "    print(f\"SlotsClass: {slots_time:.4f} секунд\")\n",
        "    print(f\"WeakRefClass: {weakref_time:.4f} секунд\")\n",
        "\n",
        "    # Замер времени доступа и изменения атрибутов класса RegularClass\n",
        "    start_time = time.time()\n",
        "    for instance in regular_instances:\n",
        "        instance.a += 1\n",
        "    regular_access_time = time.time() - start_time\n",
        "\n",
        "    # Замер времени доступа и изменения атрибутов класса SlotsClass\n",
        "    start_time = time.time()\n",
        "    for instance in slots_instances:\n",
        "        instance.a += 1\n",
        "    slots_access_time = time.time() - start_time\n",
        "\n",
        "    # Замер времени доступа и изменения атрибутов класса WeakRefClass\n",
        "    start_time = time.time()\n",
        "    for weak_instance in weakref_instances:\n",
        "        instance = weak_instance()\n",
        "        if instance:\n",
        "            instance.a += 1\n",
        "    weakref_access_time = time.time() - start_time\n",
        "\n",
        "    # Вывод времени доступа к атрибутам\n",
        "    print(\"Время доступа к атрибутам:\")\n",
        "    print(f\"RegularClass: {regular_access_time:.4f} секунд\")\n",
        "    print(f\"SlotsClass: {slots_access_time:.4f} секунд\")\n",
        "    print(f\"WeakRefClass: {weakref_access_time:.4f} секунд\")\n"
      ],
      "metadata": {
        "colab": {
          "base_uri": "https://localhost:8080/"
        },
        "id": "0lCBnt-JWOlB",
        "outputId": "19f97b05-7b7a-4301-ecd0-531b86af66ce"
      },
      "execution_count": 5,
      "outputs": [
        {
          "output_type": "stream",
          "name": "stdout",
          "text": [
            "Время создания экземпляров:\n",
            "RegularClass: 0.1775 секунд\n",
            "SlotsClass: 0.0589 секунд\n",
            "WeakRefClass: 0.1840 секунд\n",
            "Время доступа к атрибутам:\n",
            "RegularClass: 0.0152 секунд\n",
            "SlotsClass: 0.0155 секунд\n",
            "WeakRefClass: 0.0125 секунд\n"
          ]
        }
      ]
    }
  ]
}